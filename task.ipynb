{
 "cells": [
  {
   "cell_type": "markdown",
   "id": "7312a646",
   "metadata": {},
   "source": [
    "# Credit Scoring for Aave V2 Wallets\n",
    "\n",
    "This notebook loads Aave V2 transaction data, engineers features per wallet, applies KMeans clustering to derive credit score bands (0-1000), and visualizes results."
   ]
  },
  {
   "cell_type": "code",
   "execution_count": null,
   "id": "ae6c9045",
   "metadata": {},
   "outputs": [],
   "source": [
    "# Imports and setup\n",
    "import json\n",
    "import pandas as pd\n",
    "import numpy as np\n",
    "import matplotlib.pyplot as plt\n",
    "import seaborn as sns\n",
    "from collections import defaultdict\n",
    "from sklearn.preprocessing import StandardScaler, MinMaxScaler\n",
    "from sklearn.cluster import KMeans\n",
    "from sklearn.metrics import silhouette_score, davies_bouldin_score\n",
    "\n",
    "%matplotlib inline"
   ]
  },
  {
   "cell_type": "code",
   "execution_count": null,
   "id": "4942f193",
   "metadata": {},
   "outputs": [],
   "source": [
    "# Load and normalize JSON data\n",
    "with open('datasets/user-wallet-transactions.json','r') as f:\n",
    "    data = json.load(f)\n",
    "df = pd.json_normalize(data)\n",
    "print('Total records:', len(df))\n",
    "df.head(3)"
   ]
  },
  {
   "cell_type": "code",
   "execution_count": null,
   "id": "f5c1585e",
   "metadata": {},
   "outputs": [],
   "source": [
    "# Check columns and sample\n",
    "print(df.columns.tolist())\n",
    "df[['userWallet','action','timestamp',\n",
    "    'actionData.amount','actionData.assetSymbol','actionData.assetPriceUSD']].head()"
   ]
  },
  {
   "cell_type": "code",
   "execution_count": null,
   "id": "b20882b7",
   "metadata": {},
   "outputs": [],
   "source": [
    "# Convert amounts and compute USD value\n",
    "df['amount'] = pd.to_numeric(df['actionData.amount'], errors='coerce')\n",
    "df['price_usd'] = pd.to_numeric(df['actionData.assetPriceUSD'], errors='coerce')\n",
    "# Adjust units: USDC/USDT=6 decimals, others=18\n",
    "def convert_amount(row):\n",
    "    if row['actionData.assetSymbol'] in ['USDC','USDT']:\n",
    "        return row['amount']/1e6\n",
    "    return row['amount']/1e18\n",
    "df['amount_converted'] = df.apply(convert_amount, axis=1)\n",
    "df['usd_value'] = df['amount_converted'] * df['price_usd']\n",
    "df[['amount_converted','usd_value']].head()"
   ]
  },
  {
   "cell_type": "code",
   "execution_count": null,
   "id": "9b3485d6",
   "metadata": {},
   "outputs": [],
   "source": [
    "# Feature engineering per wallet\n",
    "wallet_stats = defaultdict(lambda: {'deposit_usd':0,'borrow_usd':0,'repay_usd':0,\n",
    "                                        'redeem_usd':0,'num_deposits':0,'num_borrows':0,'num_repays':0,\n",
    "                                        'num_liquidations':0,'num_txns':0,'unique_assets':set(),\n",
    "                                        'timestamps':[]})\n",
    "for _, row in df.iterrows():\n",
    "    w = row['userWallet']; act = row['action'].lower(); usd = row['usd_value']\n",
    "    wallet_stats[w]['num_txns'] += 1\n",
    "    wallet_stats[w]['unique_assets'].add(row['actionData.assetSymbol'])\n",
    "    wallet_stats[w]['timestamps'].append(row['timestamp'])\n",
    "    if act=='deposit': wallet_stats[w]['deposit_usd']+=usd; wallet_stats[w]['num_deposits']+=1\n",
    "    elif act=='borrow': wallet_stats[w]['borrow_usd']+=usd; wallet_stats[w]['num_borrows']+=1\n",
    "    elif act=='repay': wallet_stats[w]['repay_usd']+=usd; wallet_stats[w]['num_repays']+=1\n",
    "    elif act=='redeemunderlying': wallet_stats[w]['redeem_usd']+=usd\n",
    "    elif act=='liquidationcall': wallet_stats[w]['num_liquidations']+=1\n",
    "\n",
    "rows=[]\n",
    "for w, s in wallet_stats.items():\n",
    "    ts = sorted(s['timestamps']); gaps = np.diff(ts)/86400 if len(ts)>1 else [0]\n",
    "    rows.append({'wallet':w,'deposit_usd':s['deposit_usd'],'borrow_usd':s['borrow_usd'],\n",
    "                 'repay_usd':s['repay_usd'],'net_borrow_usd':s['borrow_usd']-s['repay_usd'],\n",
    "                 'num_liquidations':s['num_liquidations'],'num_txns':s['num_txns'],\n",
    "                 'num_assets':len(s['unique_assets']),'avg_days_between_txns':np.mean(gaps),\n",
    "                 'repay_to_borrow_ratio':(s['repay_usd']/s['borrow_usd'] if s['borrow_usd']>0 else 0)})\n",
    "wallet_df = pd.DataFrame(rows)\n",
    "wallet_df.head()"
   ]
  },
  {
   "cell_type": "code",
   "execution_count": null,
   "id": "9a482e10",
   "metadata": {},
   "outputs": [],
   "source": [
    "# Visualization: Feature Distributions\n",
    "features = ['deposit_usd','repay_usd','borrow_usd','net_borrow_usd']\n",
    "plt.figure(figsize=(12,8))\n",
    "for i, f in enumerate(features,1):\n",
    "    plt.subplot(2,2,i)\n",
    "    sns.histplot(wallet_df[f], bins=30, kde=True)\n",
    "    plt.title(f'Distribution of {f}')\n",
    "plt.tight_layout(); plt.show()"
   ]
  },
  {
   "cell_type": "code",
   "execution_count": null,
   "id": "b80906fa",
   "metadata": {},
   "outputs": [],
   "source": [
    "# Prepare for clustering\n",
    "features = ['deposit_usd','borrow_usd','repay_usd','net_borrow_usd',\n",
    "            'num_liquidations','num_txns','repay_to_borrow_ratio','num_assets']\n",
    "X = wallet_df[features].fillna(0)\n",
    "scaler = StandardScaler()\n",
    "X_scaled = scaler.fit_transform(X)\n",
    "X_scaled.shape"
   ]
  },
  {
   "cell_type": "code",
   "execution_count": null,
   "id": "7f7b14a5",
   "metadata": {},
   "outputs": [],
   "source": [
    "# Elbow & Silhouette Analysis\n",
    "ks=range(2,11)\n",
    "inertias=[]; sils=[]\n",
    "for k in ks:\n",
    "    km=KMeans(n_clusters=k,random_state=42,n_init='auto').fit(X_scaled)\n",
    "    inertias.append(km.inertia_)\n",
    "    sils.append(silhouette_score(X_scaled, km.labels_))\n",
    "plt.figure(figsize=(12,4))\n",
    "plt.subplot(1,2,1); plt.plot(ks,inertias,'-o'); plt.title('Elbow'); plt.xlabel('k'); plt.ylabel('Inertia')\n",
    "plt.subplot(1,2,2); plt.plot(ks,sils,'-o'); plt.title('Silhouette'); plt.xlabel('k'); plt.ylabel('Score')\n",
    "plt.tight_layout(); plt.show()"
   ]
  },
  {
   "cell_type": "code",
   "execution_count": null,
   "id": "ce3f776b",
   "metadata": {},
   "outputs": [],
   "source": [
    "# Fit KMeans (k=5)\n",
    "k=5\n",
    "kmeans=KMeans(n_clusters=k,random_state=42,n_init='auto')\n",
    "wallet_df['cluster']=kmeans.fit_predict(X_scaled)\n",
    "print(wallet_df['cluster'].value_counts())"
   ]
  },
  {
   "cell_type": "code",
   "execution_count": null,
   "id": "6ceea35b",
   "metadata": {},
   "outputs": [],
   "source": [
    "# Cluster Profiles and Heatmap\n",
    "cluster_profiles=wallet_df.groupby('cluster')[features].mean().round(2)\n",
    "display(cluster_profiles)\n",
    "plt.figure(figsize=(10,5))\n",
    "sns.heatmap(cluster_profiles, annot=True, cmap='coolwarm')\n",
    "plt.title('Cluster Profiles'); plt.show()"
   ]
  },
  {
   "cell_type": "code",
   "execution_count": null,
   "id": "aba7a9b7",
   "metadata": {},
   "outputs": [],
   "source": [
    "# Map clusters to credit scores and visualize\n",
    "cluster_to_score={2:950,0:800,1:600,3:400,4:100}\n",
    "wallet_df['credit_score_ml']=wallet_df['cluster'].map(cluster_to_score)\n",
    "wallet_df['credit_score_ml']=MinMaxScaler((0,1000)).fit_transform(wallet_df[['credit_score_ml']])\n",
    "plt.figure(figsize=(8,4)); sns.histplot(wallet_df['credit_score_ml'], bins=20, kde=True)\n",
    "plt.title('Credit Score Distribution'); plt.show()\n",
    "plt.figure(figsize=(6,4)); wallet_df.groupby('cluster')['credit_score_ml'].mean().plot(kind='bar')\n",
    "plt.title('Avg Credit Score per Cluster'); plt.show()"
   ]
  },
  {
   "cell_type": "code",
   "execution_count": null,
   "id": "c8bf2249",
   "metadata": {},
   "outputs": [],
   "source": [
    "# Save final scores to CSV\n",
    "wallet_df[['wallet','credit_score_ml']].to_csv('wallet_credit_scores_ml.csv', index=False)\n",
    "print('Saved wallet_credit_scores_ml.csv')"
   ]
  }
 ],
 "metadata": {},
 "nbformat": 4,
 "nbformat_minor": 5
}
